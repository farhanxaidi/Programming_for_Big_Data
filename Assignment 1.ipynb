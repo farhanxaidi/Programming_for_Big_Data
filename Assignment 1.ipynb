{
 "cells": [
  {
   "cell_type": "code",
   "execution_count": 2,
   "metadata": {},
   "outputs": [],
   "source": [
    "import pandas as pd"
   ]
  },
  {
   "cell_type": "code",
   "execution_count": 3,
   "metadata": {},
   "outputs": [],
   "source": [
    "df = pd.read_csv('jsrt_metadata.csv',header=None)"
   ]
  },
  {
   "cell_type": "code",
   "execution_count": 4,
   "metadata": {},
   "outputs": [
    {
     "data": {
      "text/html": [
       "<div>\n",
       "<style scoped>\n",
       "    .dataframe tbody tr th:only-of-type {\n",
       "        vertical-align: middle;\n",
       "    }\n",
       "\n",
       "    .dataframe tbody tr th {\n",
       "        vertical-align: top;\n",
       "    }\n",
       "\n",
       "    .dataframe thead th {\n",
       "        text-align: right;\n",
       "    }\n",
       "</style>\n",
       "<table border=\"1\" class=\"dataframe\">\n",
       "  <thead>\n",
       "    <tr style=\"text-align: right;\">\n",
       "      <th></th>\n",
       "      <th>0</th>\n",
       "      <th>1</th>\n",
       "      <th>2</th>\n",
       "      <th>3</th>\n",
       "      <th>4</th>\n",
       "      <th>5</th>\n",
       "      <th>6</th>\n",
       "      <th>7</th>\n",
       "      <th>8</th>\n",
       "      <th>9</th>\n",
       "    </tr>\n",
       "  </thead>\n",
       "  <tbody>\n",
       "    <tr>\n",
       "      <th>0</th>\n",
       "      <td>JPCLN001.png</td>\n",
       "      <td>5.0</td>\n",
       "      <td>15.0</td>\n",
       "      <td>53</td>\n",
       "      <td>Male</td>\n",
       "      <td>1634.0</td>\n",
       "      <td>692.0</td>\n",
       "      <td>malignant</td>\n",
       "      <td>l.upper lobe</td>\n",
       "      <td>lung cancer</td>\n",
       "    </tr>\n",
       "    <tr>\n",
       "      <th>1</th>\n",
       "      <td>JPCLN002.png</td>\n",
       "      <td>5.0</td>\n",
       "      <td>30.0</td>\n",
       "      <td>78</td>\n",
       "      <td>Female</td>\n",
       "      <td>1614.0</td>\n",
       "      <td>1090.0</td>\n",
       "      <td>benign</td>\n",
       "      <td>l.upper lobe(S5)</td>\n",
       "      <td>pulmonary hematoma</td>\n",
       "    </tr>\n",
       "    <tr>\n",
       "      <th>2</th>\n",
       "      <td>JPCLN003.png</td>\n",
       "      <td>5.0</td>\n",
       "      <td>30.0</td>\n",
       "      <td>63</td>\n",
       "      <td>Female</td>\n",
       "      <td>1303.0</td>\n",
       "      <td>447.0</td>\n",
       "      <td>malignant</td>\n",
       "      <td>l.upper lobe(S1+2)</td>\n",
       "      <td>lung cancer</td>\n",
       "    </tr>\n",
       "    <tr>\n",
       "      <th>3</th>\n",
       "      <td>JPCLN004.png</td>\n",
       "      <td>5.0</td>\n",
       "      <td>14.0</td>\n",
       "      <td>68</td>\n",
       "      <td>Female</td>\n",
       "      <td>606.0</td>\n",
       "      <td>836.0</td>\n",
       "      <td>benign</td>\n",
       "      <td>r.upper lobe</td>\n",
       "      <td>Inflammatory mass</td>\n",
       "    </tr>\n",
       "    <tr>\n",
       "      <th>4</th>\n",
       "      <td>JPCLN005.png</td>\n",
       "      <td>5.0</td>\n",
       "      <td>35.0</td>\n",
       "      <td>73</td>\n",
       "      <td>Female</td>\n",
       "      <td>1438.0</td>\n",
       "      <td>692.0</td>\n",
       "      <td>malignant</td>\n",
       "      <td>l.upper lobe(S3)</td>\n",
       "      <td>lung cancer</td>\n",
       "    </tr>\n",
       "    <tr>\n",
       "      <th>...</th>\n",
       "      <td>...</td>\n",
       "      <td>...</td>\n",
       "      <td>...</td>\n",
       "      <td>...</td>\n",
       "      <td>...</td>\n",
       "      <td>...</td>\n",
       "      <td>...</td>\n",
       "      <td>...</td>\n",
       "      <td>...</td>\n",
       "      <td>...</td>\n",
       "    </tr>\n",
       "    <tr>\n",
       "      <th>242</th>\n",
       "      <td>JPCNN089.png</td>\n",
       "      <td>NaN</td>\n",
       "      <td>NaN</td>\n",
       "      <td>50</td>\n",
       "      <td>Male</td>\n",
       "      <td>NaN</td>\n",
       "      <td>NaN</td>\n",
       "      <td>non-nodule</td>\n",
       "      <td>NaN</td>\n",
       "      <td>NaN</td>\n",
       "    </tr>\n",
       "    <tr>\n",
       "      <th>243</th>\n",
       "      <td>JPCNN090.png</td>\n",
       "      <td>NaN</td>\n",
       "      <td>NaN</td>\n",
       "      <td>68</td>\n",
       "      <td>Female</td>\n",
       "      <td>NaN</td>\n",
       "      <td>NaN</td>\n",
       "      <td>non-nodule</td>\n",
       "      <td>NaN</td>\n",
       "      <td>NaN</td>\n",
       "    </tr>\n",
       "    <tr>\n",
       "      <th>244</th>\n",
       "      <td>JPCNN091.png</td>\n",
       "      <td>NaN</td>\n",
       "      <td>NaN</td>\n",
       "      <td>81</td>\n",
       "      <td>Male</td>\n",
       "      <td>NaN</td>\n",
       "      <td>NaN</td>\n",
       "      <td>non-nodule</td>\n",
       "      <td>NaN</td>\n",
       "      <td>NaN</td>\n",
       "    </tr>\n",
       "    <tr>\n",
       "      <th>245</th>\n",
       "      <td>JPCNN092.png</td>\n",
       "      <td>NaN</td>\n",
       "      <td>NaN</td>\n",
       "      <td>70</td>\n",
       "      <td>Female</td>\n",
       "      <td>NaN</td>\n",
       "      <td>NaN</td>\n",
       "      <td>non-nodule</td>\n",
       "      <td>NaN</td>\n",
       "      <td>NaN</td>\n",
       "    </tr>\n",
       "    <tr>\n",
       "      <th>246</th>\n",
       "      <td>JPCNN093.png</td>\n",
       "      <td>NaN</td>\n",
       "      <td>NaN</td>\n",
       "      <td>41</td>\n",
       "      <td>Male</td>\n",
       "      <td>NaN</td>\n",
       "      <td>NaN</td>\n",
       "      <td>non-nodule</td>\n",
       "      <td>NaN</td>\n",
       "      <td>NaN</td>\n",
       "    </tr>\n",
       "  </tbody>\n",
       "</table>\n",
       "<p>247 rows × 10 columns</p>\n",
       "</div>"
      ],
      "text/plain": [
       "                0    1     2   3       4       5       6           7  \\\n",
       "0    JPCLN001.png  5.0  15.0  53    Male  1634.0   692.0   malignant   \n",
       "1    JPCLN002.png  5.0  30.0  78  Female  1614.0  1090.0      benign   \n",
       "2    JPCLN003.png  5.0  30.0  63  Female  1303.0   447.0   malignant   \n",
       "3    JPCLN004.png  5.0  14.0  68  Female   606.0   836.0      benign   \n",
       "4    JPCLN005.png  5.0  35.0  73  Female  1438.0   692.0   malignant   \n",
       "..            ...  ...   ...  ..     ...     ...     ...         ...   \n",
       "242  JPCNN089.png  NaN   NaN  50    Male     NaN     NaN  non-nodule   \n",
       "243  JPCNN090.png  NaN   NaN  68  Female     NaN     NaN  non-nodule   \n",
       "244  JPCNN091.png  NaN   NaN  81    Male     NaN     NaN  non-nodule   \n",
       "245  JPCNN092.png  NaN   NaN  70  Female     NaN     NaN  non-nodule   \n",
       "246  JPCNN093.png  NaN   NaN  41    Male     NaN     NaN  non-nodule   \n",
       "\n",
       "                      8                   9  \n",
       "0          l.upper lobe         lung cancer  \n",
       "1      l.upper lobe(S5)  pulmonary hematoma  \n",
       "2    l.upper lobe(S1+2)         lung cancer  \n",
       "3          r.upper lobe   Inflammatory mass  \n",
       "4      l.upper lobe(S3)         lung cancer  \n",
       "..                  ...                 ...  \n",
       "242                 NaN                 NaN  \n",
       "243                 NaN                 NaN  \n",
       "244                 NaN                 NaN  \n",
       "245                 NaN                 NaN  \n",
       "246                 NaN                 NaN  \n",
       "\n",
       "[247 rows x 10 columns]"
      ]
     },
     "execution_count": 4,
     "metadata": {},
     "output_type": "execute_result"
    }
   ],
   "source": [
    "df"
   ]
  },
  {
   "cell_type": "code",
   "execution_count": 5,
   "metadata": {},
   "outputs": [],
   "source": [
    "headers = [\"study_id\",\"subtlety\",\"size\",\"age\",\"gender\",\"x\",\"y\",\"state\",\"postion\",\"diagnosis\"]"
   ]
  },
  {
   "cell_type": "code",
   "execution_count": 6,
   "metadata": {},
   "outputs": [],
   "source": [
    "df.columns =  headers"
   ]
  },
  {
   "cell_type": "code",
   "execution_count": 7,
   "metadata": {},
   "outputs": [
    {
     "data": {
      "text/html": [
       "<div>\n",
       "<style scoped>\n",
       "    .dataframe tbody tr th:only-of-type {\n",
       "        vertical-align: middle;\n",
       "    }\n",
       "\n",
       "    .dataframe tbody tr th {\n",
       "        vertical-align: top;\n",
       "    }\n",
       "\n",
       "    .dataframe thead th {\n",
       "        text-align: right;\n",
       "    }\n",
       "</style>\n",
       "<table border=\"1\" class=\"dataframe\">\n",
       "  <thead>\n",
       "    <tr style=\"text-align: right;\">\n",
       "      <th></th>\n",
       "      <th>study_id</th>\n",
       "      <th>subtlety</th>\n",
       "      <th>size</th>\n",
       "      <th>age</th>\n",
       "      <th>gender</th>\n",
       "      <th>x</th>\n",
       "      <th>y</th>\n",
       "      <th>state</th>\n",
       "      <th>postion</th>\n",
       "      <th>diagnosis</th>\n",
       "    </tr>\n",
       "  </thead>\n",
       "  <tbody>\n",
       "    <tr>\n",
       "      <th>0</th>\n",
       "      <td>JPCLN001.png</td>\n",
       "      <td>5.0</td>\n",
       "      <td>15.0</td>\n",
       "      <td>53</td>\n",
       "      <td>Male</td>\n",
       "      <td>1634.0</td>\n",
       "      <td>692.0</td>\n",
       "      <td>malignant</td>\n",
       "      <td>l.upper lobe</td>\n",
       "      <td>lung cancer</td>\n",
       "    </tr>\n",
       "    <tr>\n",
       "      <th>1</th>\n",
       "      <td>JPCLN002.png</td>\n",
       "      <td>5.0</td>\n",
       "      <td>30.0</td>\n",
       "      <td>78</td>\n",
       "      <td>Female</td>\n",
       "      <td>1614.0</td>\n",
       "      <td>1090.0</td>\n",
       "      <td>benign</td>\n",
       "      <td>l.upper lobe(S5)</td>\n",
       "      <td>pulmonary hematoma</td>\n",
       "    </tr>\n",
       "    <tr>\n",
       "      <th>2</th>\n",
       "      <td>JPCLN003.png</td>\n",
       "      <td>5.0</td>\n",
       "      <td>30.0</td>\n",
       "      <td>63</td>\n",
       "      <td>Female</td>\n",
       "      <td>1303.0</td>\n",
       "      <td>447.0</td>\n",
       "      <td>malignant</td>\n",
       "      <td>l.upper lobe(S1+2)</td>\n",
       "      <td>lung cancer</td>\n",
       "    </tr>\n",
       "    <tr>\n",
       "      <th>3</th>\n",
       "      <td>JPCLN004.png</td>\n",
       "      <td>5.0</td>\n",
       "      <td>14.0</td>\n",
       "      <td>68</td>\n",
       "      <td>Female</td>\n",
       "      <td>606.0</td>\n",
       "      <td>836.0</td>\n",
       "      <td>benign</td>\n",
       "      <td>r.upper lobe</td>\n",
       "      <td>Inflammatory mass</td>\n",
       "    </tr>\n",
       "    <tr>\n",
       "      <th>4</th>\n",
       "      <td>JPCLN005.png</td>\n",
       "      <td>5.0</td>\n",
       "      <td>35.0</td>\n",
       "      <td>73</td>\n",
       "      <td>Female</td>\n",
       "      <td>1438.0</td>\n",
       "      <td>692.0</td>\n",
       "      <td>malignant</td>\n",
       "      <td>l.upper lobe(S3)</td>\n",
       "      <td>lung cancer</td>\n",
       "    </tr>\n",
       "    <tr>\n",
       "      <th>...</th>\n",
       "      <td>...</td>\n",
       "      <td>...</td>\n",
       "      <td>...</td>\n",
       "      <td>...</td>\n",
       "      <td>...</td>\n",
       "      <td>...</td>\n",
       "      <td>...</td>\n",
       "      <td>...</td>\n",
       "      <td>...</td>\n",
       "      <td>...</td>\n",
       "    </tr>\n",
       "    <tr>\n",
       "      <th>242</th>\n",
       "      <td>JPCNN089.png</td>\n",
       "      <td>NaN</td>\n",
       "      <td>NaN</td>\n",
       "      <td>50</td>\n",
       "      <td>Male</td>\n",
       "      <td>NaN</td>\n",
       "      <td>NaN</td>\n",
       "      <td>non-nodule</td>\n",
       "      <td>NaN</td>\n",
       "      <td>NaN</td>\n",
       "    </tr>\n",
       "    <tr>\n",
       "      <th>243</th>\n",
       "      <td>JPCNN090.png</td>\n",
       "      <td>NaN</td>\n",
       "      <td>NaN</td>\n",
       "      <td>68</td>\n",
       "      <td>Female</td>\n",
       "      <td>NaN</td>\n",
       "      <td>NaN</td>\n",
       "      <td>non-nodule</td>\n",
       "      <td>NaN</td>\n",
       "      <td>NaN</td>\n",
       "    </tr>\n",
       "    <tr>\n",
       "      <th>244</th>\n",
       "      <td>JPCNN091.png</td>\n",
       "      <td>NaN</td>\n",
       "      <td>NaN</td>\n",
       "      <td>81</td>\n",
       "      <td>Male</td>\n",
       "      <td>NaN</td>\n",
       "      <td>NaN</td>\n",
       "      <td>non-nodule</td>\n",
       "      <td>NaN</td>\n",
       "      <td>NaN</td>\n",
       "    </tr>\n",
       "    <tr>\n",
       "      <th>245</th>\n",
       "      <td>JPCNN092.png</td>\n",
       "      <td>NaN</td>\n",
       "      <td>NaN</td>\n",
       "      <td>70</td>\n",
       "      <td>Female</td>\n",
       "      <td>NaN</td>\n",
       "      <td>NaN</td>\n",
       "      <td>non-nodule</td>\n",
       "      <td>NaN</td>\n",
       "      <td>NaN</td>\n",
       "    </tr>\n",
       "    <tr>\n",
       "      <th>246</th>\n",
       "      <td>JPCNN093.png</td>\n",
       "      <td>NaN</td>\n",
       "      <td>NaN</td>\n",
       "      <td>41</td>\n",
       "      <td>Male</td>\n",
       "      <td>NaN</td>\n",
       "      <td>NaN</td>\n",
       "      <td>non-nodule</td>\n",
       "      <td>NaN</td>\n",
       "      <td>NaN</td>\n",
       "    </tr>\n",
       "  </tbody>\n",
       "</table>\n",
       "<p>247 rows × 10 columns</p>\n",
       "</div>"
      ],
      "text/plain": [
       "         study_id  subtlety  size age  gender       x       y       state  \\\n",
       "0    JPCLN001.png       5.0  15.0  53    Male  1634.0   692.0   malignant   \n",
       "1    JPCLN002.png       5.0  30.0  78  Female  1614.0  1090.0      benign   \n",
       "2    JPCLN003.png       5.0  30.0  63  Female  1303.0   447.0   malignant   \n",
       "3    JPCLN004.png       5.0  14.0  68  Female   606.0   836.0      benign   \n",
       "4    JPCLN005.png       5.0  35.0  73  Female  1438.0   692.0   malignant   \n",
       "..            ...       ...   ...  ..     ...     ...     ...         ...   \n",
       "242  JPCNN089.png       NaN   NaN  50    Male     NaN     NaN  non-nodule   \n",
       "243  JPCNN090.png       NaN   NaN  68  Female     NaN     NaN  non-nodule   \n",
       "244  JPCNN091.png       NaN   NaN  81    Male     NaN     NaN  non-nodule   \n",
       "245  JPCNN092.png       NaN   NaN  70  Female     NaN     NaN  non-nodule   \n",
       "246  JPCNN093.png       NaN   NaN  41    Male     NaN     NaN  non-nodule   \n",
       "\n",
       "                postion           diagnosis  \n",
       "0          l.upper lobe         lung cancer  \n",
       "1      l.upper lobe(S5)  pulmonary hematoma  \n",
       "2    l.upper lobe(S1+2)         lung cancer  \n",
       "3          r.upper lobe   Inflammatory mass  \n",
       "4      l.upper lobe(S3)         lung cancer  \n",
       "..                  ...                 ...  \n",
       "242                 NaN                 NaN  \n",
       "243                 NaN                 NaN  \n",
       "244                 NaN                 NaN  \n",
       "245                 NaN                 NaN  \n",
       "246                 NaN                 NaN  \n",
       "\n",
       "[247 rows x 10 columns]"
      ]
     },
     "execution_count": 7,
     "metadata": {},
     "output_type": "execute_result"
    }
   ],
   "source": [
    "df"
   ]
  },
  {
   "cell_type": "code",
   "execution_count": 8,
   "metadata": {
    "scrolled": true
   },
   "outputs": [
    {
     "data": {
      "text/plain": [
       "study_id      0\n",
       "subtlety     93\n",
       "size         93\n",
       "age           0\n",
       "gender        0\n",
       "x            93\n",
       "y            93\n",
       "state         0\n",
       "postion      93\n",
       "diagnosis    93\n",
       "dtype: int64"
      ]
     },
     "execution_count": 8,
     "metadata": {},
     "output_type": "execute_result"
    }
   ],
   "source": [
    "df.isnull().sum()"
   ]
  },
  {
   "cell_type": "code",
   "execution_count": 9,
   "metadata": {},
   "outputs": [],
   "source": [
    "import numpy as np"
   ]
  },
  {
   "cell_type": "code",
   "execution_count": 10,
   "metadata": {},
   "outputs": [],
   "source": [
    "ma= df['subtlety'].astype('float').mean()\n",
    "df['subtlety'] = df['subtlety'].astype('float')\n",
    "df['subtlety'].replace(np.nan, ma, inplace = True)"
   ]
  },
  {
   "cell_type": "code",
   "execution_count": 11,
   "metadata": {},
   "outputs": [],
   "source": [
    "ma= df['size'].astype('float').mean()\n",
    "df['size'] = df['size'].astype('float')\n",
    "df['size'].replace(np.nan, ma, inplace = True)"
   ]
  },
  {
   "cell_type": "code",
   "execution_count": 12,
   "metadata": {},
   "outputs": [],
   "source": [
    "ma= df['x'].astype('float').mean()\n",
    "df['x'] = df['x'].astype('float')\n",
    "df['x'].replace(np.nan, ma, inplace = True)"
   ]
  },
  {
   "cell_type": "code",
   "execution_count": 13,
   "metadata": {},
   "outputs": [],
   "source": [
    "ma= df['y'].astype('float').mean()\n",
    "df['y'] = df['y'].astype('float')\n",
    "df['y'].replace(np.nan, ma, inplace = True)"
   ]
  },
  {
   "cell_type": "code",
   "execution_count": 14,
   "metadata": {},
   "outputs": [],
   "source": [
    "mx = df['postion'].value_counts().idxmax()\n",
    "df['postion'].replace(np.nan, mx, inplace = True)"
   ]
  },
  {
   "cell_type": "code",
   "execution_count": 15,
   "metadata": {},
   "outputs": [],
   "source": [
    "mx = df['diagnosis'].value_counts().idxmax()\n",
    "df['diagnosis'].replace(np.nan, mx, inplace = True)"
   ]
  },
  {
   "cell_type": "code",
   "execution_count": 16,
   "metadata": {},
   "outputs": [
    {
     "data": {
      "text/plain": [
       "study_id     0\n",
       "subtlety     0\n",
       "size         0\n",
       "age          0\n",
       "gender       0\n",
       "x            0\n",
       "y            0\n",
       "state        0\n",
       "postion      0\n",
       "diagnosis    0\n",
       "dtype: int64"
      ]
     },
     "execution_count": 16,
     "metadata": {},
     "output_type": "execute_result"
    }
   ],
   "source": [
    "df.isnull().sum()"
   ]
  },
  {
   "cell_type": "code",
   "execution_count": 17,
   "metadata": {},
   "outputs": [
    {
     "data": {
      "text/plain": [
       "JPCLN001.png    1\n",
       "JPCNN002.png    1\n",
       "JPCNN004.png    1\n",
       "JPCNN005.png    1\n",
       "JPCNN006.png    1\n",
       "               ..\n",
       "JPCLN088.png    1\n",
       "JPCLN089.png    1\n",
       "JPCLN090.png    1\n",
       "JPCLN091.png    1\n",
       "JPCNN093.png    1\n",
       "Name: study_id, Length: 247, dtype: int64"
      ]
     },
     "execution_count": 17,
     "metadata": {},
     "output_type": "execute_result"
    }
   ],
   "source": [
    "df['study_id'].value_counts()"
   ]
  },
  {
   "cell_type": "code",
   "execution_count": 18,
   "metadata": {},
   "outputs": [
    {
     "name": "stderr",
     "output_type": "stream",
     "text": [
      "Matplotlib is building the font cache; this may take a moment.\n"
     ]
    }
   ],
   "source": [
    "import matplotlib as plt\n",
    "from matplotlib import pyplot"
   ]
  },
  {
   "cell_type": "code",
   "execution_count": 19,
   "metadata": {},
   "outputs": [
    {
     "data": {
      "text/plain": [
       "(array([25.,  0., 29.,  0., 93., 50.,  0., 38.,  0., 12.]),\n",
       " array([1. , 1.4, 1.8, 2.2, 2.6, 3. , 3.4, 3.8, 4.2, 4.6, 5. ]),\n",
       " <BarContainer object of 10 artists>)"
      ]
     },
     "execution_count": 19,
     "metadata": {},
     "output_type": "execute_result"
    },
    {
     "data": {
      "image/png": "[encoded data removed]",
      "text/plain": [
       "<Figure size 432x288 with 1 Axes>"
      ]
     },
     "metadata": {
      "needs_background": "light"
     },
     "output_type": "display_data"
    }
   ],
   "source": [
    "plt.pyplot.title('subtlety')\n",
    "plt.pyplot.ylabel('Frequency')\n",
    "plt.pyplot.xlabel('Category')\n",
    "plt.pyplot.hist(df['subtlety'], color = 'yellow', ec = 'green')"
   ]
  },
  {
   "cell_type": "code",
   "execution_count": 20,
   "metadata": {},
   "outputs": [
    {
     "data": {
      "text/plain": [
       "(array([ 31.,  52., 133.,  11.,  17.,   2.,   0.,   0.,   0.,   1.]),\n",
       " array([ 5. , 10.5, 16. , 21.5, 27. , 32.5, 38. , 43.5, 49. , 54.5, 60. ]),\n",
       " <BarContainer object of 10 artists>)"
      ]
     },
     "execution_count": 20,
     "metadata": {},
     "output_type": "execute_result"
    },
    {
     "data": {
      "image/png": "[encoded data removed]",
      "text/plain": [
       "<Figure size 432x288 with 1 Axes>"
      ]
     },
     "metadata": {
      "needs_background": "light"
     },
     "output_type": "display_data"
    }
   ],
   "source": [
    "plt.pyplot.title('size')\n",
    "plt.pyplot.ylabel('Frequency')\n",
    "plt.pyplot.xlabel('Category')\n",
    "plt.pyplot.hist(df['size'], color = 'red', ec = 'white')"
   ]
  },
  {
   "cell_type": "code",
   "execution_count": 21,
   "metadata": {},
   "outputs": [
    {
     "data": {
      "text/plain": [
       "(array([49., 29., 45., 35., 26., 21., 19., 10.,  6.,  7.]),\n",
       " array([ 0. ,  5.8, 11.6, 17.4, 23.2, 29. , 34.8, 40.6, 46.4, 52.2, 58. ]),\n",
       " <BarContainer object of 10 artists>)"
      ]
     },
     "execution_count": 21,
     "metadata": {},
     "output_type": "execute_result"
    },
    {
     "data": {
      "image/png": "[encoded data removed]",
      "text/plain": [
       "<Figure size 432x288 with 1 Axes>"
      ]
     },
     "metadata": {
      "needs_background": "light"
     },
     "output_type": "display_data"
    }
   ],
   "source": [
    "plt.pyplot.title('age')\n",
    "plt.pyplot.ylabel('Frequency')\n",
    "plt.pyplot.xlabel('Category')\n",
    "plt.pyplot.hist(df['age'], color = 'blue', ec = 'white')"
   ]
  },
  {
   "cell_type": "code",
   "execution_count": 22,
   "metadata": {},
   "outputs": [
    {
     "data": {
      "text/plain": [
       "(array([119.,   0.,   0.,   0.,   0.,   0.,   0.,   0.,   0., 128.]),\n",
       " array([0. , 0.1, 0.2, 0.3, 0.4, 0.5, 0.6, 0.7, 0.8, 0.9, 1. ]),\n",
       " <BarContainer object of 10 artists>)"
      ]
     },
     "execution_count": 22,
     "metadata": {},
     "output_type": "execute_result"
    },
    {
     "data": {
      "image/png": "[encoded data removed]",
      "text/plain": [
       "<Figure size 432x288 with 1 Axes>"
      ]
     },
     "metadata": {
      "needs_background": "light"
     },
     "output_type": "display_data"
    }
   ],
   "source": [
    "plt.pyplot.title('gender')\n",
    "plt.pyplot.ylabel('Frequency')\n",
    "plt.pyplot.xlabel('Category')\n",
    "plt.pyplot.hist(df['gender'], color = 'green', ec = 'white')"
   ]
  },
  {
   "cell_type": "code",
   "execution_count": 23,
   "metadata": {},
   "outputs": [
    {
     "data": {
      "text/plain": [
       "(array([ 7., 44., 31., 11., 95.,  0.,  2., 14., 25., 18.]),\n",
       " array([ 246. ,  399.2,  552.4,  705.6,  858.8, 1012. , 1165.2, 1318.4,\n",
       "        1471.6, 1624.8, 1778. ]),\n",
       " <BarContainer object of 10 artists>)"
      ]
     },
     "execution_count": 23,
     "metadata": {},
     "output_type": "execute_result"
    },
    {
     "data": {
      "image/png": "[encoded data removed]",
      "text/plain": [
       "<Figure size 432x288 with 1 Axes>"
      ]
     },
     "metadata": {
      "needs_background": "light"
     },
     "output_type": "display_data"
    }
   ],
   "source": [
    "plt.pyplot.title('x')\n",
    "plt.pyplot.ylabel('Frequency')\n",
    "plt.pyplot.xlabel('Category')\n",
    "plt.pyplot.hist(df['x'], color = 'pink', ec = 'white')"
   ]
  },
  {
   "cell_type": "code",
   "execution_count": 24,
   "metadata": {},
   "outputs": [
    {
     "data": {
      "text/plain": [
       "(array([ 14.,  21.,  15.,  20., 116.,  19.,  15.,  15.,   9.,   3.]),\n",
       " array([ 238. ,  383.8,  529.6,  675.4,  821.2,  967. , 1112.8, 1258.6,\n",
       "        1404.4, 1550.2, 1696. ]),\n",
       " <BarContainer object of 10 artists>)"
      ]
     },
     "execution_count": 24,
     "metadata": {},
     "output_type": "execute_result"
    },
    {
     "data": {
      "image/png": "[encoded data removed]",
      "text/plain": [
       "<Figure size 432x288 with 1 Axes>"
      ]
     },
     "metadata": {
      "needs_background": "light"
     },
     "output_type": "display_data"
    }
   ],
   "source": [
    "plt.pyplot.title('y')\n",
    "plt.pyplot.ylabel('Frequency')\n",
    "plt.pyplot.xlabel('Category')\n",
    "plt.pyplot.hist(df['y'], color = 'orange', ec = 'white')"
   ]
  },
  {
   "cell_type": "code",
   "execution_count": 25,
   "metadata": {},
   "outputs": [
    {
     "data": {
      "text/plain": [
       "(array([100.,   0.,   0.,   0.,   0.,  54.,   0.,   0.,   0.,  93.]),\n",
       " array([0. , 0.2, 0.4, 0.6, 0.8, 1. , 1.2, 1.4, 1.6, 1.8, 2. ]),\n",
       " <BarContainer object of 10 artists>)"
      ]
     },
     "execution_count": 25,
     "metadata": {},
     "output_type": "execute_result"
    },
    {
     "data": {
      "image/png": "[encoded data removed]",
      "text/plain": [
       "<Figure size 432x288 with 1 Axes>"
      ]
     },
     "metadata": {
      "needs_background": "light"
     },
     "output_type": "display_data"
    }
   ],
   "source": [
    "plt.pyplot.title('state')\n",
    "plt.pyplot.ylabel('Frequency')\n",
    "plt.pyplot.xlabel('Category')\n",
    "plt.pyplot.hist(df['state'], color = 'brown', ec = 'white')"
   ]
  },
  {
   "cell_type": "code",
   "execution_count": 26,
   "metadata": {},
   "outputs": [
    {
     "data": {
      "text/plain": [
       "(array([ 17., 128.,  19.,  17.,  21.,  13.,  12.,   8.,   7.,   5.]),\n",
       " array([ 0. ,  2.7,  5.4,  8.1, 10.8, 13.5, 16.2, 18.9, 21.6, 24.3, 27. ]),\n",
       " <BarContainer object of 10 artists>)"
      ]
     },
     "execution_count": 26,
     "metadata": {},
     "output_type": "execute_result"
    },
    {
     "data": {
      "image/png": "[encoded data removed]",
      "text/plain": [
       "<Figure size 432x288 with 1 Axes>"
      ]
     },
     "metadata": {
      "needs_background": "light"
     },
     "output_type": "display_data"
    }
   ],
   "source": [
    "plt.pyplot.title('postion')\n",
    "plt.pyplot.ylabel('Frequency')\n",
    "plt.pyplot.xlabel('Category')\n",
    "plt.pyplot.hist(df['postion'], color = 'grey', ec = 'white')"
   ]
  },
  {
   "cell_type": "code",
   "execution_count": 27,
   "metadata": {},
   "outputs": [
    {
     "data": {
      "text/plain": [
       "(array([167.,  33.,  13.,   5.,   8.,   7.,   3.,   3.,   4.,   4.]),\n",
       " array([ 0. ,  3.1,  6.2,  9.3, 12.4, 15.5, 18.6, 21.7, 24.8, 27.9, 31. ]),\n",
       " <BarContainer object of 10 artists>)"
      ]
     },
     "execution_count": 27,
     "metadata": {},
     "output_type": "execute_result"
    },
    {
     "data": {
      "image/png": "[encoded data removed]",
      "text/plain": [
       "<Figure size 432x288 with 1 Axes>"
      ]
     },
     "metadata": {
      "needs_background": "light"
     },
     "output_type": "display_data"
    }
   ],
   "source": [
    "plt.pyplot.title('diagnosis')\n",
    "plt.pyplot.ylabel('Frequency')\n",
    "plt.pyplot.xlabel('Category')\n",
    "plt.pyplot.hist(df['diagnosis'], color = 'purple', ec = 'white')"
   ]
  },
  {
   "cell_type": "code",
   "execution_count": 28,
   "metadata": {},
   "outputs": [
    {
     "data": {
      "text/plain": [
       "(array([25., 25., 24., 25., 24., 25., 25., 24., 25., 25.]),\n",
       " array([  0. ,  24.6,  49.2,  73.8,  98.4, 123. , 147.6, 172.2, 196.8,\n",
       "        221.4, 246. ]),\n",
       " <BarContainer object of 10 artists>)"
      ]
     },
     "execution_count": 28,
     "metadata": {},
     "output_type": "execute_result"
    },
    {
     "data": {
      "image/png": "[encoded data removed]",
      "text/plain": [
       "<Figure size 432x288 with 1 Axes>"
      ]
     },
     "metadata": {
      "needs_background": "light"
     },
     "output_type": "display_data"
    }
   ],
   "source": [
    "plt.pyplot.title('study_id')\n",
    "plt.pyplot.ylabel('Frequency')\n",
    "plt.pyplot.xlabel('Category')\n",
    "plt.pyplot.hist(df['study_id'], color = 'red', ec = 'white')"
   ]
  },
  {
   "cell_type": "code",
   "execution_count": 29,
   "metadata": {
    "scrolled": false
   },
   "outputs": [
    {
     "data": {
      "text/plain": [
       "lung cancer                                       149\n",
       "lung cancer(adenocarcinoma)                        23\n",
       "tuberculoma                                        14\n",
       "granuloma                                           8\n",
       "lung cancer(bronchioloalveolar cell carcinoma)      7\n",
       "unknown                                             4\n",
       "metastasis of colon cancer                          4\n",
       "inflammatory mass                                   4\n",
       "pulmonary tuberculosis                              3\n",
       "lung abscess                                        2\n",
       "Cryptococcosis                                      2\n",
       "lung cancer(squamous cell carcinoma)                2\n",
       "Inflammatory mass                                   2\n",
       "pulmonary hematoma                                  2\n",
       "susp. inflammatory mass                             2\n",
       "hamartoma                                           2\n",
       "sclerosing hemangioma                               2\n",
       "lung cancer(large cell carcinoma)                   1\n",
       "susp. hamartoma                                     1\n",
       "metastasis of uterine cancer                        1\n",
       "organizing pneumonia                                1\n",
       "metastasis of ovarian cancer                        1\n",
       "metastatic lung cancer                              1\n",
       "lung canceror metastasis                            1\n",
       "pneumonia                                           1\n",
       "calcified granuloma                                 1\n",
       "lung cancer(adenosquamous carcinoma)                1\n",
       "lung cancer(small cell carcinoma)                   1\n",
       "susp.tuberculoma                                    1\n",
       "organiging pneumonia                                1\n",
       "susp. sclerosing hemangioma                         1\n",
       "susp. lung metastasis                               1\n",
       "Name: diagnosis, dtype: int64"
      ]
     },
     "execution_count": 29,
     "metadata": {},
     "output_type": "execute_result"
    }
   ],
   "source": [
    "df['diagnosis'].value_counts()"
   ]
  },
  {
   "cell_type": "code",
   "execution_count": 30,
   "metadata": {
    "scrolled": false
   },
   "outputs": [
    {
     "data": {
      "text/plain": [
       "([<matplotlib.patches.Wedge at 0x1c71eca68b0>,\n",
       "  <matplotlib.patches.Wedge at 0x1c71ecb82e0>,\n",
       "  <matplotlib.patches.Wedge at 0x1c71ecb8c70>,\n",
       "  <matplotlib.patches.Wedge at 0x1c71eca6850>,\n",
       "  <matplotlib.patches.Wedge at 0x1c71ecc3fa0>,\n",
       "  <matplotlib.patches.Wedge at 0x1c71eccf970>,\n",
       "  <matplotlib.patches.Wedge at 0x1c71ecd9340>,\n",
       "  <matplotlib.patches.Wedge at 0x1c71ecd9cd0>,\n",
       "  <matplotlib.patches.Wedge at 0x1c71ece66a0>,\n",
       "  <matplotlib.patches.Wedge at 0x1c71ece6fd0>,\n",
       "  <matplotlib.patches.Wedge at 0x1c71ecf2a00>,\n",
       "  <matplotlib.patches.Wedge at 0x1c71ecfb3d0>,\n",
       "  <matplotlib.patches.Wedge at 0x1c71ecfbd60>,\n",
       "  <matplotlib.patches.Wedge at 0x1c71ed07730>,\n",
       "  <matplotlib.patches.Wedge at 0x1c71ed14100>,\n",
       "  <matplotlib.patches.Wedge at 0x1c71ed14a90>,\n",
       "  <matplotlib.patches.Wedge at 0x1c71ed20460>,\n",
       "  <matplotlib.patches.Wedge at 0x1c71ed20df0>,\n",
       "  <matplotlib.patches.Wedge at 0x1c71ed2d7c0>,\n",
       "  <matplotlib.patches.Wedge at 0x1c71ed3a190>,\n",
       "  <matplotlib.patches.Wedge at 0x1c71ed3ab20>,\n",
       "  <matplotlib.patches.Wedge at 0x1c71ed494f0>,\n",
       "  <matplotlib.patches.Wedge at 0x1c71ed49e80>,\n",
       "  <matplotlib.patches.Wedge at 0x1c71ed55850>,\n",
       "  <matplotlib.patches.Wedge at 0x1c71ed62220>,\n",
       "  <matplotlib.patches.Wedge at 0x1c71ed62bb0>,\n",
       "  <matplotlib.patches.Wedge at 0x1c71ed71580>,\n",
       "  <matplotlib.patches.Wedge at 0x1c71ed71f10>,\n",
       "  <matplotlib.patches.Wedge at 0x1c71ed7e8e0>,\n",
       "  <matplotlib.patches.Wedge at 0x1c71ed8c2b0>,\n",
       "  <matplotlib.patches.Wedge at 0x1c71ed8cc40>,\n",
       "  <matplotlib.patches.Wedge at 0x1c71ed99610>],\n",
       " [Text(-1.0426493150549963, -0.3505458683472785, 'lung cancer'),\n",
       "  Text(0.8890956668528454, -0.6476950634237492, 'lung cancer(adenocarcinoma)'),\n",
       "  Text(1.0861269135989273, -0.1741503016249713, 'tuberculoma'),\n",
       "  Text(1.0919797500487745, 0.13259044265487666, 'granuloma'),\n",
       "  Text(1.047023437479144, 0.33725646230925965, 'lung cancer(bronchioloalveolar cell carcinoma)'),\n",
       "  Text(0.9897612276498443, 0.4799715744094367, 'unknown'),\n",
       "  Text(0.93588808313956, 0.5780255148670865, 'metastasis of colon cancer'),\n",
       "  Text(0.8723336088214358, 0.670100048440955, 'inflammatory mass'),\n",
       "  Text(0.8092962300372698, 0.7450098066787192, 'pulmonary tuberculosis'),\n",
       "  Text(0.7603132885502715, 0.7949362888017328, 'pulmonary hematoma'),\n",
       "  Text(0.718903785405025, 0.8325727279525352, 'lung cancer(squamous cell carcinoma)'),\n",
       "  Text(0.6756338968038895, 0.868054628171287, 'lung abscess'),\n",
       "  Text(0.6306155969401652, 0.9012901690886232, 'cryptococcosis'),\n",
       "  Text(0.5839653845609942, 0.9321933434832766, 'Inflammatory mass'),\n",
       "  Text(0.5358039814908907, 0.960684179852312, 'hamartoma'),\n",
       "  Text(0.48625602022675507, 0.9866889493620762, 'sclerosing hemangioma'),\n",
       "  Text(0.4354497214128203, 1.010140356644312, 'susp. inflammatory mass'),\n",
       "  Text(0.39659819202417795, 1.0260165077049948, 'susp. lung metastasis'),\n",
       "  Text(0.37037289027324966, 1.035772138141705, 'metastasis of ovarian cancer'),\n",
       "  Text(0.34390793621009047, 1.0448575651311123, 'organizing pneumonia'),\n",
       "  Text(0.31722045416426553, 1.053266909885532, 'lung cancer(small cell carcinoma)'),\n",
       "  Text(0.29032771245359035, 1.060994731080916, 'susp. sclerosing hemangioma'),\n",
       "  Text(0.26324711221055186, 1.0680360283776973, 'susp.tuberculoma'),\n",
       "  Text(0.23599617612278517, 1.0743862456562927, 'pneumonia'),\n",
       "  Text(0.2085925370948991, 1.0800412739651728, 'metastasis of uterine cancer'),\n",
       "  Text(0.1810539268389844, 1.0849974541795866, 'lung cancer(adenosquamous carcinoma)'),\n",
       "  Text(0.15339816440118825, 1.0892515793692228, 'organiging pneumonia'),\n",
       "  Text(0.12564314463177842, 1.0928008968732768, 'calcified granuloma'),\n",
       "  Text(0.09780682660615812, 1.0956431100815782, 'metastatic lung cancer'),\n",
       "  Text(0.06990722200432242, 1.097776379920628, 'susp. hamartoma'),\n",
       "  Text(0.04196238345628137, 1.0991993260435835, 'lung canceror metastasis'),\n",
       "  Text(0.013990392860976406, 1.0999110277234225, 'lung cancer(large cell carcinoma)')],\n",
       " [Text(-0.5687178082118161, -0.19120683728033372, '60.3%'),\n",
       "  Text(0.4849612728288247, -0.35328821641295405, '9.3%'),\n",
       "  Text(0.5924328619630511, -0.0949910736136207, '5.7%'),\n",
       "  Text(0.5956253182084223, 0.07232205962993271, '3.2%'),\n",
       "  Text(0.5711036931704422, 0.18395807035050527, '2.8%'),\n",
       "  Text(0.5398697605362787, 0.26180267695060183, '1.6%'),\n",
       "  Text(0.5104844089852144, 0.3152866444729563, '1.6%'),\n",
       "  Text(0.4758183320844195, 0.36550911733143, '1.6%'),\n",
       "  Text(0.4414343072930562, 0.4063689854611195, '1.2%'),\n",
       "  Text(0.41471633920923895, 0.4336016120736724, '0.8%'),\n",
       "  Text(0.3921293374936499, 0.45413057888320096, '0.8%'),\n",
       "  Text(0.36852758007484876, 0.4734843426388837, '0.8%'),\n",
       "  Text(0.34397214378554464, 0.4916128195028854, '0.8%'),\n",
       "  Text(0.3185265733969059, 0.5084690964454236, '0.8%'),\n",
       "  Text(0.2922567171768494, 0.5240095526467156, '0.8%'),\n",
       "  Text(0.2652305564873209, 0.5381939723793142, '0.8%'),\n",
       "  Text(0.2375180298615383, 0.5509856490787155, '0.8%'),\n",
       "  Text(0.2163262865586425, 0.559645367839088, '0.4%'),\n",
       "  Text(0.2020215765126816, 0.5649666208045664, '0.4%'),\n",
       "  Text(0.18758614702368567, 0.5699223082533339, '0.4%'),\n",
       "  Text(0.1730293386350539, 0.5745092235739265, '0.4%'),\n",
       "  Text(0.1583605704292311, 0.5787243987714087, '0.4%'),\n",
       "  Text(0.14358933393302825, 0.5825651063878348, '0.4%'),\n",
       "  Text(0.1287251869760646, 0.5860288612670687, '0.4%'),\n",
       "  Text(0.11377774750630859, 0.5891134221628215, '0.4%'),\n",
       "  Text(0.09875668736671876, 0.5918167931888653, '0.4%'),\n",
       "  Text(0.08367172603701176, 0.5941372251104851, '0.4%'),\n",
       "  Text(0.0685326243446064, 0.5960732164763327, '0.4%'),\n",
       "  Text(0.053349178148813514, 0.5976235145899517, '0.4%'),\n",
       "  Text(0.03813121200235768, 0.5987871163203424, '0.4%'),\n",
       "  Text(0.02288857279433529, 0.5995632687510455, '0.4%'),\n",
       "  Text(0.007631123378714402, 0.5999514696673214, '0.4%')])"
      ]
     },
     "execution_count": 30,
     "metadata": {},
     "output_type": "execute_result"
    },
    {
     "data": {
      "image/png": "[encoded data removed]",
      "text/plain": [
       "<Figure size 432x288 with 1 Axes>"
      ]
     },
     "metadata": {},
     "output_type": "display_data"
    }
   ],
   "source": [
    "plt.pyplot.pie(df['diagnosis'].value_counts(),shadow = True,\n",
    "                labels = ['lung cancer','lung cancer(adenocarcinoma)','tuberculoma','granuloma',\n",
    "                          'lung cancer(bronchioloalveolar cell carcinoma)','unknown','metastasis of colon cancer'\n",
    "                          ,'inflammatory mass','pulmonary tuberculosis','pulmonary hematoma','lung cancer(squamous cell carcinoma)',\n",
    "                          'lung abscess','cryptococcosis','Inflammatory mass','hamartoma','sclerosing hemangioma',\n",
    "                          'susp. inflammatory mass','susp. lung metastasis','metastasis of ovarian cancer','organizing pneumonia',\n",
    "                          'lung cancer(small cell carcinoma)','susp. sclerosing hemangioma','susp.tuberculoma','pneumonia',\n",
    "                          'metastasis of uterine cancer','lung cancer(adenosquamous carcinoma)','organiging pneumonia','calcified granuloma',\n",
    "                         'metastatic lung cancer','susp. hamartoma','lung canceror metastasis','lung cancer(large cell carcinoma)'],\n",
    "              colors = ['Red','Yellow','Green'],autopct = '%1.1f%%',startangle = 90)"
   ]
  },
  {
   "cell_type": "code",
   "execution_count": 31,
   "metadata": {},
   "outputs": [
    {
     "data": {
      "text/plain": [
       "Female    128\n",
       "Male      119\n",
       "Name: gender, dtype: int64"
      ]
     },
     "execution_count": 31,
     "metadata": {},
     "output_type": "execute_result"
    }
   ],
   "source": [
    "df['gender'].value_counts()"
   ]
  },
  {
   "cell_type": "code",
   "execution_count": 37,
   "metadata": {},
   "outputs": [
    {
     "data": {
      "text/plain": [
       "([<matplotlib.patches.Wedge at 0x1c71efd3ca0>,\n",
       "  <matplotlib.patches.Wedge at 0x1c71efe2700>,\n",
       "  <matplotlib.patches.Wedge at 0x1c71eff00d0>],\n",
       " [Text(0.35335896838914194, 1.1467944190041044, 'malignant'),\n",
       "  Text(-1.0004055406820234, -0.6627131763988919, 'non-nodule'),\n",
       "  Text(0.9279150349340941, -0.7609032053706036, 'benign')],\n",
       " [Text(0.2061260648936661, 0.6689634110857275, '40.49%'),\n",
       "  Text(-0.5835698987311803, -0.3865826862326869, '37.65%'),\n",
       "  Text(0.5412837703782216, -0.4438602031328521, '21.86%')])"
      ]
     },
     "execution_count": 37,
     "metadata": {},
     "output_type": "execute_result"
    },
    {
     "data": {
      "image/png": "[encoded data removed]",
      "text/plain": [
       "<Figure size 432x288 with 1 Axes>"
      ]
     },
     "metadata": {},
     "output_type": "display_data"
    }
   ],
   "source": [
    "plt.pyplot.pie(df['state'].value_counts(),explode = [0.1,0.1,0.1],shadow = True,labels = ['malignant','non-nodule','benign'],\n",
    "              colors = ['pink','blue','orange'],autopct = '%1.2f%%',startangle = 0)"
   ]
  },
  {
   "cell_type": "code",
   "execution_count": 38,
   "metadata": {},
   "outputs": [
    {
     "data": {
      "text/plain": [
       "([<matplotlib.patches.Wedge at 0x1c71f02bf70>,\n",
       "  <matplotlib.patches.Wedge at 0x1c71f03a9a0>],\n",
       " [Text(-0.0686451480429525, 1.1980349926651397, 'Female'),\n",
       "  Text(0.0686451480429521, -1.1980349926651397, 'Male')],\n",
       " [Text(-0.04004300302505563, 0.6988537457213314, '51.822%'),\n",
       "  Text(0.04004300302505538, -0.6988537457213314, '48.178%')])"
      ]
     },
     "execution_count": 38,
     "metadata": {},
     "output_type": "execute_result"
    },
    {
     "data": {
      "image/png": "[encoded data removed]",
      "text/plain": [
       "<Figure size 432x288 with 1 Axes>"
      ]
     },
     "metadata": {},
     "output_type": "display_data"
    }
   ],
   "source": [
    "plt.pyplot.pie(df['gender'].value_counts(),explode = [0.1,0.1],shadow = True,labels = ['Female','Male'],\n",
    "              colors = ['pink','blue'],autopct = '%1.3f%%',startangle = 0)"
   ]
  },
  {
   "cell_type": "code",
   "execution_count": 35,
   "metadata": {},
   "outputs": [
    {
     "data": {
      "text/plain": [
       "malignant     100\n",
       "non-nodule     93\n",
       "benign         54\n",
       "Name: state, dtype: int64"
      ]
     },
     "execution_count": 35,
     "metadata": {},
     "output_type": "execute_result"
    }
   ],
   "source": [
    "df['state'].value_counts()"
   ]
  },
  {
   "cell_type": "code",
   "execution_count": null,
   "metadata": {},
   "outputs": [],
   "source": []
  }
 ],
 "metadata": {
  "kernelspec": {
   "display_name": "Python 3 (ipykernel)",
   "language": "python",
   "name": "python3"
  },
  "language_info": {
   "codemirror_mode": {
    "name": "ipython",
    "version": 3
   },
   "file_extension": ".py",
   "mimetype": "text/x-python",
   "name": "python",
   "nbconvert_exporter": "python",
   "pygments_lexer": "ipython3",
   "version": "3.9.7"
  }
 },
 "nbformat": 4,
 "nbformat_minor": 2
}
